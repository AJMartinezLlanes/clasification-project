{
 "cells": [
  {
   "cell_type": "markdown",
   "metadata": {},
   "source": [
    "# Stop the Churn\n",
    "by AJ Martinez "
   ]
  },
  {
   "cell_type": "markdown",
   "metadata": {},
   "source": [
    "## Project goal\n",
    "- Main goal for this project is to identify drivers of churn.\n",
    "- Build a machine learning model that can predict customer churn\n",
    "- Deliver the report that is easy to understand"
   ]
  },
  {
   "cell_type": "markdown",
   "metadata": {},
   "source": [
    "## Project Description\n",
    "\n",
    "- Telco is a communication company that delivers great service to all its customers. \n",
    "- In this project we are going to dive into current churn rate. \n",
    "- Discuss features with the highest and lowest churn rate. \n",
    "- Discuss what demographic should be the main focus and what are the indications that drives the churn rate with them."
   ]
  },
  {
   "cell_type": "markdown",
   "metadata": {},
   "source": [
    "## Initial Questions\n",
    "- What is Telco's churn rate?\n",
    "- What are the top 3 features with the highest churn rate?\n",
    "- What are the top 3 features with the lowest churn rate?\n",
    "- What demographic has the highest churn rate?"
   ]
  },
  {
   "cell_type": "markdown",
   "metadata": {},
   "source": [
    "## Wrangle Telco Data"
   ]
  },
  {
   "cell_type": "code",
   "execution_count": 1,
   "metadata": {},
   "outputs": [
    {
     "name": "stdout",
     "output_type": "stream",
     "text": [
      "Reading from csv file...\n",
      "Reading from csv file...\n"
     ]
    }
   ],
   "source": [
    "import acquire\n",
    "import prepare\n",
    "import project\n",
    "import model"
   ]
  },
  {
   "cell_type": "markdown",
   "metadata": {},
   "source": [
    "First we acquire the data from either a csv file or sql server."
   ]
  },
  {
   "cell_type": "code",
   "execution_count": 2,
   "metadata": {},
   "outputs": [
    {
     "name": "stdout",
     "output_type": "stream",
     "text": [
      "Reading from csv file...\n"
     ]
    }
   ],
   "source": [
    "# Using Acquire python file in this repo, we can get the information trnasferred into a pandas DataFrame\n",
    "telco_df = acquire.get_telco_data()"
   ]
  },
  {
   "cell_type": "markdown",
   "metadata": {},
   "source": [
    "Now we clean the information obtained from file or server. When we clean data we start by removing spaces, null values, caps and special characters."
   ]
  },
  {
   "cell_type": "code",
   "execution_count": 3,
   "metadata": {},
   "outputs": [],
   "source": [
    "# Using Prepare python file in this repo will clean the DataFrame\n",
    "telco_df = prepare.prep_telco(telco_df)"
   ]
  },
  {
   "cell_type": "markdown",
   "metadata": {},
   "source": [
    "Once we have a clean dataframe and everything encoded, we can get our train, test, validate numbers."
   ]
  },
  {
   "cell_type": "code",
   "execution_count": 4,
   "metadata": {},
   "outputs": [],
   "source": [
    "# Using Prepare python file in this repo, get the train validate test values\n",
    "train, validate, test = prepare.split_telco_data(telco_df)"
   ]
  },
  {
   "cell_type": "markdown",
   "metadata": {},
   "source": [
    "## Set the Data Context"
   ]
  },
  {
   "cell_type": "code",
   "execution_count": 5,
   "metadata": {},
   "outputs": [
    {
     "data": {
      "text/html": [
       "<div>\n",
       "<style scoped>\n",
       "    .dataframe tbody tr th:only-of-type {\n",
       "        vertical-align: middle;\n",
       "    }\n",
       "\n",
       "    .dataframe tbody tr th {\n",
       "        vertical-align: top;\n",
       "    }\n",
       "\n",
       "    .dataframe thead th {\n",
       "        text-align: right;\n",
       "    }\n",
       "</style>\n",
       "<table border=\"1\" class=\"dataframe\">\n",
       "  <thead>\n",
       "    <tr style=\"text-align: right;\">\n",
       "      <th></th>\n",
       "      <th>count</th>\n",
       "      <th>mean</th>\n",
       "      <th>std</th>\n",
       "      <th>min</th>\n",
       "      <th>25%</th>\n",
       "      <th>50%</th>\n",
       "      <th>75%</th>\n",
       "      <th>max</th>\n",
       "    </tr>\n",
       "  </thead>\n",
       "  <tbody>\n",
       "    <tr>\n",
       "      <th>senior_citizen</th>\n",
       "      <td>7032.0</td>\n",
       "      <td>0.162400</td>\n",
       "      <td>0.368844</td>\n",
       "      <td>0.00</td>\n",
       "      <td>0.0000</td>\n",
       "      <td>0.000</td>\n",
       "      <td>0.0000</td>\n",
       "      <td>1.00</td>\n",
       "    </tr>\n",
       "    <tr>\n",
       "      <th>tenure</th>\n",
       "      <td>7032.0</td>\n",
       "      <td>32.421786</td>\n",
       "      <td>24.545260</td>\n",
       "      <td>1.00</td>\n",
       "      <td>9.0000</td>\n",
       "      <td>29.000</td>\n",
       "      <td>55.0000</td>\n",
       "      <td>72.00</td>\n",
       "    </tr>\n",
       "    <tr>\n",
       "      <th>monthly_charges</th>\n",
       "      <td>7032.0</td>\n",
       "      <td>64.798208</td>\n",
       "      <td>30.085974</td>\n",
       "      <td>18.25</td>\n",
       "      <td>35.5875</td>\n",
       "      <td>70.350</td>\n",
       "      <td>89.8625</td>\n",
       "      <td>118.75</td>\n",
       "    </tr>\n",
       "    <tr>\n",
       "      <th>total_charges</th>\n",
       "      <td>7032.0</td>\n",
       "      <td>2283.300441</td>\n",
       "      <td>2266.771362</td>\n",
       "      <td>18.80</td>\n",
       "      <td>401.4500</td>\n",
       "      <td>1397.475</td>\n",
       "      <td>3794.7375</td>\n",
       "      <td>8684.80</td>\n",
       "    </tr>\n",
       "    <tr>\n",
       "      <th>gender_encoded</th>\n",
       "      <td>7032.0</td>\n",
       "      <td>0.495307</td>\n",
       "      <td>0.500014</td>\n",
       "      <td>0.00</td>\n",
       "      <td>0.0000</td>\n",
       "      <td>0.000</td>\n",
       "      <td>1.0000</td>\n",
       "      <td>1.00</td>\n",
       "    </tr>\n",
       "    <tr>\n",
       "      <th>partner_encoded</th>\n",
       "      <td>7032.0</td>\n",
       "      <td>0.482509</td>\n",
       "      <td>0.499729</td>\n",
       "      <td>0.00</td>\n",
       "      <td>0.0000</td>\n",
       "      <td>0.000</td>\n",
       "      <td>1.0000</td>\n",
       "      <td>1.00</td>\n",
       "    </tr>\n",
       "    <tr>\n",
       "      <th>dependents_encoded</th>\n",
       "      <td>7032.0</td>\n",
       "      <td>0.298493</td>\n",
       "      <td>0.457629</td>\n",
       "      <td>0.00</td>\n",
       "      <td>0.0000</td>\n",
       "      <td>0.000</td>\n",
       "      <td>1.0000</td>\n",
       "      <td>1.00</td>\n",
       "    </tr>\n",
       "    <tr>\n",
       "      <th>phone_service_encoded</th>\n",
       "      <td>7032.0</td>\n",
       "      <td>0.903299</td>\n",
       "      <td>0.295571</td>\n",
       "      <td>0.00</td>\n",
       "      <td>1.0000</td>\n",
       "      <td>1.000</td>\n",
       "      <td>1.0000</td>\n",
       "      <td>1.00</td>\n",
       "    </tr>\n",
       "    <tr>\n",
       "      <th>paperless_billing_encoded</th>\n",
       "      <td>7032.0</td>\n",
       "      <td>0.592719</td>\n",
       "      <td>0.491363</td>\n",
       "      <td>0.00</td>\n",
       "      <td>0.0000</td>\n",
       "      <td>1.000</td>\n",
       "      <td>1.0000</td>\n",
       "      <td>1.00</td>\n",
       "    </tr>\n",
       "    <tr>\n",
       "      <th>churn_encoded</th>\n",
       "      <td>7032.0</td>\n",
       "      <td>0.265785</td>\n",
       "      <td>0.441782</td>\n",
       "      <td>0.00</td>\n",
       "      <td>0.0000</td>\n",
       "      <td>0.000</td>\n",
       "      <td>1.0000</td>\n",
       "      <td>1.00</td>\n",
       "    </tr>\n",
       "    <tr>\n",
       "      <th>multiple_lines_no</th>\n",
       "      <td>7032.0</td>\n",
       "      <td>0.481371</td>\n",
       "      <td>0.499688</td>\n",
       "      <td>0.00</td>\n",
       "      <td>0.0000</td>\n",
       "      <td>0.000</td>\n",
       "      <td>1.0000</td>\n",
       "      <td>1.00</td>\n",
       "    </tr>\n",
       "    <tr>\n",
       "      <th>multiple_lines_no_phone_service</th>\n",
       "      <td>7032.0</td>\n",
       "      <td>0.096701</td>\n",
       "      <td>0.295571</td>\n",
       "      <td>0.00</td>\n",
       "      <td>0.0000</td>\n",
       "      <td>0.000</td>\n",
       "      <td>0.0000</td>\n",
       "      <td>1.00</td>\n",
       "    </tr>\n",
       "    <tr>\n",
       "      <th>multiple_lines_yes</th>\n",
       "      <td>7032.0</td>\n",
       "      <td>0.421928</td>\n",
       "      <td>0.493902</td>\n",
       "      <td>0.00</td>\n",
       "      <td>0.0000</td>\n",
       "      <td>0.000</td>\n",
       "      <td>1.0000</td>\n",
       "      <td>1.00</td>\n",
       "    </tr>\n",
       "    <tr>\n",
       "      <th>online_security_no</th>\n",
       "      <td>7032.0</td>\n",
       "      <td>0.497298</td>\n",
       "      <td>0.500028</td>\n",
       "      <td>0.00</td>\n",
       "      <td>0.0000</td>\n",
       "      <td>0.000</td>\n",
       "      <td>1.0000</td>\n",
       "      <td>1.00</td>\n",
       "    </tr>\n",
       "    <tr>\n",
       "      <th>online_security_no_internet_service</th>\n",
       "      <td>7032.0</td>\n",
       "      <td>0.216155</td>\n",
       "      <td>0.411650</td>\n",
       "      <td>0.00</td>\n",
       "      <td>0.0000</td>\n",
       "      <td>0.000</td>\n",
       "      <td>0.0000</td>\n",
       "      <td>1.00</td>\n",
       "    </tr>\n",
       "    <tr>\n",
       "      <th>online_security_yes</th>\n",
       "      <td>7032.0</td>\n",
       "      <td>0.286547</td>\n",
       "      <td>0.452180</td>\n",
       "      <td>0.00</td>\n",
       "      <td>0.0000</td>\n",
       "      <td>0.000</td>\n",
       "      <td>1.0000</td>\n",
       "      <td>1.00</td>\n",
       "    </tr>\n",
       "    <tr>\n",
       "      <th>online_backup_no</th>\n",
       "      <td>7032.0</td>\n",
       "      <td>0.438993</td>\n",
       "      <td>0.496300</td>\n",
       "      <td>0.00</td>\n",
       "      <td>0.0000</td>\n",
       "      <td>0.000</td>\n",
       "      <td>1.0000</td>\n",
       "      <td>1.00</td>\n",
       "    </tr>\n",
       "    <tr>\n",
       "      <th>online_backup_no_internet_service</th>\n",
       "      <td>7032.0</td>\n",
       "      <td>0.216155</td>\n",
       "      <td>0.411650</td>\n",
       "      <td>0.00</td>\n",
       "      <td>0.0000</td>\n",
       "      <td>0.000</td>\n",
       "      <td>0.0000</td>\n",
       "      <td>1.00</td>\n",
       "    </tr>\n",
       "    <tr>\n",
       "      <th>online_backup_yes</th>\n",
       "      <td>7032.0</td>\n",
       "      <td>0.344852</td>\n",
       "      <td>0.475354</td>\n",
       "      <td>0.00</td>\n",
       "      <td>0.0000</td>\n",
       "      <td>0.000</td>\n",
       "      <td>1.0000</td>\n",
       "      <td>1.00</td>\n",
       "    </tr>\n",
       "    <tr>\n",
       "      <th>device_protection_no</th>\n",
       "      <td>7032.0</td>\n",
       "      <td>0.439989</td>\n",
       "      <td>0.496421</td>\n",
       "      <td>0.00</td>\n",
       "      <td>0.0000</td>\n",
       "      <td>0.000</td>\n",
       "      <td>1.0000</td>\n",
       "      <td>1.00</td>\n",
       "    </tr>\n",
       "    <tr>\n",
       "      <th>device_protection_no_internet_service</th>\n",
       "      <td>7032.0</td>\n",
       "      <td>0.216155</td>\n",
       "      <td>0.411650</td>\n",
       "      <td>0.00</td>\n",
       "      <td>0.0000</td>\n",
       "      <td>0.000</td>\n",
       "      <td>0.0000</td>\n",
       "      <td>1.00</td>\n",
       "    </tr>\n",
       "    <tr>\n",
       "      <th>device_protection_yes</th>\n",
       "      <td>7032.0</td>\n",
       "      <td>0.343857</td>\n",
       "      <td>0.475028</td>\n",
       "      <td>0.00</td>\n",
       "      <td>0.0000</td>\n",
       "      <td>0.000</td>\n",
       "      <td>1.0000</td>\n",
       "      <td>1.00</td>\n",
       "    </tr>\n",
       "    <tr>\n",
       "      <th>tech_support_no</th>\n",
       "      <td>7032.0</td>\n",
       "      <td>0.493743</td>\n",
       "      <td>0.499996</td>\n",
       "      <td>0.00</td>\n",
       "      <td>0.0000</td>\n",
       "      <td>0.000</td>\n",
       "      <td>1.0000</td>\n",
       "      <td>1.00</td>\n",
       "    </tr>\n",
       "    <tr>\n",
       "      <th>tech_support_no_internet_service</th>\n",
       "      <td>7032.0</td>\n",
       "      <td>0.216155</td>\n",
       "      <td>0.411650</td>\n",
       "      <td>0.00</td>\n",
       "      <td>0.0000</td>\n",
       "      <td>0.000</td>\n",
       "      <td>0.0000</td>\n",
       "      <td>1.00</td>\n",
       "    </tr>\n",
       "    <tr>\n",
       "      <th>tech_support_yes</th>\n",
       "      <td>7032.0</td>\n",
       "      <td>0.290102</td>\n",
       "      <td>0.453842</td>\n",
       "      <td>0.00</td>\n",
       "      <td>0.0000</td>\n",
       "      <td>0.000</td>\n",
       "      <td>1.0000</td>\n",
       "      <td>1.00</td>\n",
       "    </tr>\n",
       "    <tr>\n",
       "      <th>streaming_tv_no</th>\n",
       "      <td>7032.0</td>\n",
       "      <td>0.399460</td>\n",
       "      <td>0.489822</td>\n",
       "      <td>0.00</td>\n",
       "      <td>0.0000</td>\n",
       "      <td>0.000</td>\n",
       "      <td>1.0000</td>\n",
       "      <td>1.00</td>\n",
       "    </tr>\n",
       "    <tr>\n",
       "      <th>streaming_tv_no_internet_service</th>\n",
       "      <td>7032.0</td>\n",
       "      <td>0.216155</td>\n",
       "      <td>0.411650</td>\n",
       "      <td>0.00</td>\n",
       "      <td>0.0000</td>\n",
       "      <td>0.000</td>\n",
       "      <td>0.0000</td>\n",
       "      <td>1.00</td>\n",
       "    </tr>\n",
       "    <tr>\n",
       "      <th>streaming_tv_yes</th>\n",
       "      <td>7032.0</td>\n",
       "      <td>0.384386</td>\n",
       "      <td>0.486484</td>\n",
       "      <td>0.00</td>\n",
       "      <td>0.0000</td>\n",
       "      <td>0.000</td>\n",
       "      <td>1.0000</td>\n",
       "      <td>1.00</td>\n",
       "    </tr>\n",
       "    <tr>\n",
       "      <th>streaming_movies_no</th>\n",
       "      <td>7032.0</td>\n",
       "      <td>0.395478</td>\n",
       "      <td>0.488988</td>\n",
       "      <td>0.00</td>\n",
       "      <td>0.0000</td>\n",
       "      <td>0.000</td>\n",
       "      <td>1.0000</td>\n",
       "      <td>1.00</td>\n",
       "    </tr>\n",
       "    <tr>\n",
       "      <th>streaming_movies_no_internet_service</th>\n",
       "      <td>7032.0</td>\n",
       "      <td>0.216155</td>\n",
       "      <td>0.411650</td>\n",
       "      <td>0.00</td>\n",
       "      <td>0.0000</td>\n",
       "      <td>0.000</td>\n",
       "      <td>0.0000</td>\n",
       "      <td>1.00</td>\n",
       "    </tr>\n",
       "    <tr>\n",
       "      <th>streaming_movies_yes</th>\n",
       "      <td>7032.0</td>\n",
       "      <td>0.388367</td>\n",
       "      <td>0.487414</td>\n",
       "      <td>0.00</td>\n",
       "      <td>0.0000</td>\n",
       "      <td>0.000</td>\n",
       "      <td>1.0000</td>\n",
       "      <td>1.00</td>\n",
       "    </tr>\n",
       "    <tr>\n",
       "      <th>contract_type_month-to-month</th>\n",
       "      <td>7032.0</td>\n",
       "      <td>0.551052</td>\n",
       "      <td>0.497422</td>\n",
       "      <td>0.00</td>\n",
       "      <td>0.0000</td>\n",
       "      <td>1.000</td>\n",
       "      <td>1.0000</td>\n",
       "      <td>1.00</td>\n",
       "    </tr>\n",
       "    <tr>\n",
       "      <th>contract_type_one_year</th>\n",
       "      <td>7032.0</td>\n",
       "      <td>0.209329</td>\n",
       "      <td>0.406858</td>\n",
       "      <td>0.00</td>\n",
       "      <td>0.0000</td>\n",
       "      <td>0.000</td>\n",
       "      <td>0.0000</td>\n",
       "      <td>1.00</td>\n",
       "    </tr>\n",
       "    <tr>\n",
       "      <th>contract_type_two_year</th>\n",
       "      <td>7032.0</td>\n",
       "      <td>0.239619</td>\n",
       "      <td>0.426881</td>\n",
       "      <td>0.00</td>\n",
       "      <td>0.0000</td>\n",
       "      <td>0.000</td>\n",
       "      <td>0.0000</td>\n",
       "      <td>1.00</td>\n",
       "    </tr>\n",
       "    <tr>\n",
       "      <th>internet_service_type_dsl</th>\n",
       "      <td>7032.0</td>\n",
       "      <td>0.343572</td>\n",
       "      <td>0.474934</td>\n",
       "      <td>0.00</td>\n",
       "      <td>0.0000</td>\n",
       "      <td>0.000</td>\n",
       "      <td>1.0000</td>\n",
       "      <td>1.00</td>\n",
       "    </tr>\n",
       "    <tr>\n",
       "      <th>internet_service_type_fiber_optic</th>\n",
       "      <td>7032.0</td>\n",
       "      <td>0.440273</td>\n",
       "      <td>0.496455</td>\n",
       "      <td>0.00</td>\n",
       "      <td>0.0000</td>\n",
       "      <td>0.000</td>\n",
       "      <td>1.0000</td>\n",
       "      <td>1.00</td>\n",
       "    </tr>\n",
       "    <tr>\n",
       "      <th>internet_service_type_none</th>\n",
       "      <td>7032.0</td>\n",
       "      <td>0.216155</td>\n",
       "      <td>0.411650</td>\n",
       "      <td>0.00</td>\n",
       "      <td>0.0000</td>\n",
       "      <td>0.000</td>\n",
       "      <td>0.0000</td>\n",
       "      <td>1.00</td>\n",
       "    </tr>\n",
       "    <tr>\n",
       "      <th>payment_type_bank_transfer_automatic)</th>\n",
       "      <td>7032.0</td>\n",
       "      <td>0.219283</td>\n",
       "      <td>0.413790</td>\n",
       "      <td>0.00</td>\n",
       "      <td>0.0000</td>\n",
       "      <td>0.000</td>\n",
       "      <td>0.0000</td>\n",
       "      <td>1.00</td>\n",
       "    </tr>\n",
       "    <tr>\n",
       "      <th>payment_type_credit_card_automatic)</th>\n",
       "      <td>7032.0</td>\n",
       "      <td>0.216297</td>\n",
       "      <td>0.411748</td>\n",
       "      <td>0.00</td>\n",
       "      <td>0.0000</td>\n",
       "      <td>0.000</td>\n",
       "      <td>0.0000</td>\n",
       "      <td>1.00</td>\n",
       "    </tr>\n",
       "    <tr>\n",
       "      <th>payment_type_electronic_check</th>\n",
       "      <td>7032.0</td>\n",
       "      <td>0.336320</td>\n",
       "      <td>0.472483</td>\n",
       "      <td>0.00</td>\n",
       "      <td>0.0000</td>\n",
       "      <td>0.000</td>\n",
       "      <td>1.0000</td>\n",
       "      <td>1.00</td>\n",
       "    </tr>\n",
       "    <tr>\n",
       "      <th>payment_type_mailed_check</th>\n",
       "      <td>7032.0</td>\n",
       "      <td>0.228100</td>\n",
       "      <td>0.419637</td>\n",
       "      <td>0.00</td>\n",
       "      <td>0.0000</td>\n",
       "      <td>0.000</td>\n",
       "      <td>0.0000</td>\n",
       "      <td>1.00</td>\n",
       "    </tr>\n",
       "  </tbody>\n",
       "</table>\n",
       "</div>"
      ],
      "text/plain": [
       "                                        count         mean          std  \\\n",
       "senior_citizen                         7032.0     0.162400     0.368844   \n",
       "tenure                                 7032.0    32.421786    24.545260   \n",
       "monthly_charges                        7032.0    64.798208    30.085974   \n",
       "total_charges                          7032.0  2283.300441  2266.771362   \n",
       "gender_encoded                         7032.0     0.495307     0.500014   \n",
       "partner_encoded                        7032.0     0.482509     0.499729   \n",
       "dependents_encoded                     7032.0     0.298493     0.457629   \n",
       "phone_service_encoded                  7032.0     0.903299     0.295571   \n",
       "paperless_billing_encoded              7032.0     0.592719     0.491363   \n",
       "churn_encoded                          7032.0     0.265785     0.441782   \n",
       "multiple_lines_no                      7032.0     0.481371     0.499688   \n",
       "multiple_lines_no_phone_service        7032.0     0.096701     0.295571   \n",
       "multiple_lines_yes                     7032.0     0.421928     0.493902   \n",
       "online_security_no                     7032.0     0.497298     0.500028   \n",
       "online_security_no_internet_service    7032.0     0.216155     0.411650   \n",
       "online_security_yes                    7032.0     0.286547     0.452180   \n",
       "online_backup_no                       7032.0     0.438993     0.496300   \n",
       "online_backup_no_internet_service      7032.0     0.216155     0.411650   \n",
       "online_backup_yes                      7032.0     0.344852     0.475354   \n",
       "device_protection_no                   7032.0     0.439989     0.496421   \n",
       "device_protection_no_internet_service  7032.0     0.216155     0.411650   \n",
       "device_protection_yes                  7032.0     0.343857     0.475028   \n",
       "tech_support_no                        7032.0     0.493743     0.499996   \n",
       "tech_support_no_internet_service       7032.0     0.216155     0.411650   \n",
       "tech_support_yes                       7032.0     0.290102     0.453842   \n",
       "streaming_tv_no                        7032.0     0.399460     0.489822   \n",
       "streaming_tv_no_internet_service       7032.0     0.216155     0.411650   \n",
       "streaming_tv_yes                       7032.0     0.384386     0.486484   \n",
       "streaming_movies_no                    7032.0     0.395478     0.488988   \n",
       "streaming_movies_no_internet_service   7032.0     0.216155     0.411650   \n",
       "streaming_movies_yes                   7032.0     0.388367     0.487414   \n",
       "contract_type_month-to-month           7032.0     0.551052     0.497422   \n",
       "contract_type_one_year                 7032.0     0.209329     0.406858   \n",
       "contract_type_two_year                 7032.0     0.239619     0.426881   \n",
       "internet_service_type_dsl              7032.0     0.343572     0.474934   \n",
       "internet_service_type_fiber_optic      7032.0     0.440273     0.496455   \n",
       "internet_service_type_none             7032.0     0.216155     0.411650   \n",
       "payment_type_bank_transfer_automatic)  7032.0     0.219283     0.413790   \n",
       "payment_type_credit_card_automatic)    7032.0     0.216297     0.411748   \n",
       "payment_type_electronic_check          7032.0     0.336320     0.472483   \n",
       "payment_type_mailed_check              7032.0     0.228100     0.419637   \n",
       "\n",
       "                                         min       25%       50%        75%  \\\n",
       "senior_citizen                          0.00    0.0000     0.000     0.0000   \n",
       "tenure                                  1.00    9.0000    29.000    55.0000   \n",
       "monthly_charges                        18.25   35.5875    70.350    89.8625   \n",
       "total_charges                          18.80  401.4500  1397.475  3794.7375   \n",
       "gender_encoded                          0.00    0.0000     0.000     1.0000   \n",
       "partner_encoded                         0.00    0.0000     0.000     1.0000   \n",
       "dependents_encoded                      0.00    0.0000     0.000     1.0000   \n",
       "phone_service_encoded                   0.00    1.0000     1.000     1.0000   \n",
       "paperless_billing_encoded               0.00    0.0000     1.000     1.0000   \n",
       "churn_encoded                           0.00    0.0000     0.000     1.0000   \n",
       "multiple_lines_no                       0.00    0.0000     0.000     1.0000   \n",
       "multiple_lines_no_phone_service         0.00    0.0000     0.000     0.0000   \n",
       "multiple_lines_yes                      0.00    0.0000     0.000     1.0000   \n",
       "online_security_no                      0.00    0.0000     0.000     1.0000   \n",
       "online_security_no_internet_service     0.00    0.0000     0.000     0.0000   \n",
       "online_security_yes                     0.00    0.0000     0.000     1.0000   \n",
       "online_backup_no                        0.00    0.0000     0.000     1.0000   \n",
       "online_backup_no_internet_service       0.00    0.0000     0.000     0.0000   \n",
       "online_backup_yes                       0.00    0.0000     0.000     1.0000   \n",
       "device_protection_no                    0.00    0.0000     0.000     1.0000   \n",
       "device_protection_no_internet_service   0.00    0.0000     0.000     0.0000   \n",
       "device_protection_yes                   0.00    0.0000     0.000     1.0000   \n",
       "tech_support_no                         0.00    0.0000     0.000     1.0000   \n",
       "tech_support_no_internet_service        0.00    0.0000     0.000     0.0000   \n",
       "tech_support_yes                        0.00    0.0000     0.000     1.0000   \n",
       "streaming_tv_no                         0.00    0.0000     0.000     1.0000   \n",
       "streaming_tv_no_internet_service        0.00    0.0000     0.000     0.0000   \n",
       "streaming_tv_yes                        0.00    0.0000     0.000     1.0000   \n",
       "streaming_movies_no                     0.00    0.0000     0.000     1.0000   \n",
       "streaming_movies_no_internet_service    0.00    0.0000     0.000     0.0000   \n",
       "streaming_movies_yes                    0.00    0.0000     0.000     1.0000   \n",
       "contract_type_month-to-month            0.00    0.0000     1.000     1.0000   \n",
       "contract_type_one_year                  0.00    0.0000     0.000     0.0000   \n",
       "contract_type_two_year                  0.00    0.0000     0.000     0.0000   \n",
       "internet_service_type_dsl               0.00    0.0000     0.000     1.0000   \n",
       "internet_service_type_fiber_optic       0.00    0.0000     0.000     1.0000   \n",
       "internet_service_type_none              0.00    0.0000     0.000     0.0000   \n",
       "payment_type_bank_transfer_automatic)   0.00    0.0000     0.000     0.0000   \n",
       "payment_type_credit_card_automatic)     0.00    0.0000     0.000     0.0000   \n",
       "payment_type_electronic_check           0.00    0.0000     0.000     1.0000   \n",
       "payment_type_mailed_check               0.00    0.0000     0.000     0.0000   \n",
       "\n",
       "                                           max  \n",
       "senior_citizen                            1.00  \n",
       "tenure                                   72.00  \n",
       "monthly_charges                         118.75  \n",
       "total_charges                          8684.80  \n",
       "gender_encoded                            1.00  \n",
       "partner_encoded                           1.00  \n",
       "dependents_encoded                        1.00  \n",
       "phone_service_encoded                     1.00  \n",
       "paperless_billing_encoded                 1.00  \n",
       "churn_encoded                             1.00  \n",
       "multiple_lines_no                         1.00  \n",
       "multiple_lines_no_phone_service           1.00  \n",
       "multiple_lines_yes                        1.00  \n",
       "online_security_no                        1.00  \n",
       "online_security_no_internet_service       1.00  \n",
       "online_security_yes                       1.00  \n",
       "online_backup_no                          1.00  \n",
       "online_backup_no_internet_service         1.00  \n",
       "online_backup_yes                         1.00  \n",
       "device_protection_no                      1.00  \n",
       "device_protection_no_internet_service     1.00  \n",
       "device_protection_yes                     1.00  \n",
       "tech_support_no                           1.00  \n",
       "tech_support_no_internet_service          1.00  \n",
       "tech_support_yes                          1.00  \n",
       "streaming_tv_no                           1.00  \n",
       "streaming_tv_no_internet_service          1.00  \n",
       "streaming_tv_yes                          1.00  \n",
       "streaming_movies_no                       1.00  \n",
       "streaming_movies_no_internet_service      1.00  \n",
       "streaming_movies_yes                      1.00  \n",
       "contract_type_month-to-month              1.00  \n",
       "contract_type_one_year                    1.00  \n",
       "contract_type_two_year                    1.00  \n",
       "internet_service_type_dsl                 1.00  \n",
       "internet_service_type_fiber_optic         1.00  \n",
       "internet_service_type_none                1.00  \n",
       "payment_type_bank_transfer_automatic)     1.00  \n",
       "payment_type_credit_card_automatic)       1.00  \n",
       "payment_type_electronic_check             1.00  \n",
       "payment_type_mailed_check                 1.00  "
      ]
     },
     "execution_count": 5,
     "metadata": {},
     "output_type": "execute_result"
    }
   ],
   "source": [
    "telco_df.describe().T"
   ]
  },
  {
   "cell_type": "code",
   "execution_count": 6,
   "metadata": {},
   "outputs": [
    {
     "data": {
      "image/png": "[encoded data removed]",
      "text/plain": [
       "<Figure size 1296x1584 with 2 Axes>"
      ]
     },
     "metadata": {
      "needs_background": "light"
     },
     "output_type": "display_data"
    }
   ],
   "source": [
    "project.churn_heat_map()"
   ]
  },
  {
   "cell_type": "markdown",
   "metadata": {},
   "source": [
    "## Exploratory Analysis: Drivers of Churn\n"
   ]
  },
  {
   "cell_type": "markdown",
   "metadata": {},
   "source": [
    "### Question 1\n",
    "#### What is Telco's churn rate?"
   ]
  },
  {
   "cell_type": "markdown",
   "metadata": {},
   "source": [
    "### Answer 1\n",
    "####  Current churn rate is: 26.57%"
   ]
  },
  {
   "cell_type": "code",
   "execution_count": 7,
   "metadata": {},
   "outputs": [
    {
     "name": "stdout",
     "output_type": "stream",
     "text": [
      "Churn percentage 26.57%\n"
     ]
    },
    {
     "data": {
      "image/png": "[encoded data removed]",
      "text/plain": [
       "<Figure size 432x288 with 1 Axes>"
      ]
     },
     "metadata": {},
     "output_type": "display_data"
    }
   ],
   "source": [
    "project.churn_rate()"
   ]
  },
  {
   "cell_type": "markdown",
   "metadata": {},
   "source": [
    "### Question 2\n",
    "#### What are the top 3 features with the highest churn rate?"
   ]
  },
  {
   "cell_type": "markdown",
   "metadata": {},
   "source": [
    "### Answer 2\n",
    "1. Month-to-month Contract\n",
    "2. No Online security \n",
    "3. No Tech Support"
   ]
  },
  {
   "cell_type": "code",
   "execution_count": 8,
   "metadata": {},
   "outputs": [
    {
     "data": {
      "image/png": "[encoded data removed]",
      "text/plain": [
       "<Figure size 432x288 with 1 Axes>"
      ]
     },
     "metadata": {
      "needs_background": "light"
     },
     "output_type": "display_data"
    },
    {
     "data": {
      "image/png": "[encoded data removed]",
      "text/plain": [
       "<Figure size 432x288 with 1 Axes>"
      ]
     },
     "metadata": {
      "needs_background": "light"
     },
     "output_type": "display_data"
    },
    {
     "data": {
      "image/png": "[encoded data removed]",
      "text/plain": [
       "<Figure size 432x288 with 1 Axes>"
      ]
     },
     "metadata": {
      "needs_background": "light"
     },
     "output_type": "display_data"
    }
   ],
   "source": [
    "project.top_3_viz()"
   ]
  },
  {
   "cell_type": "code",
   "execution_count": 9,
   "metadata": {},
   "outputs": [
    {
     "name": "stdout",
     "output_type": "stream",
     "text": [
      "Contract Type vs Churn\n",
      "HO: There is no relation between month-to-month contract and churn rate\n",
      "H⍺: There is a relation between month-to-month contract and churn rate\n",
      "---------------------------------------------\n",
      "\n",
      "churn_encoded      0    1\n",
      "contract_type            \n",
      "Month-to-month  1252  929\n",
      "One year         743   90\n",
      "Two year         896   27\n",
      "Observed\n",
      ":\n",
      "[[1252  929]\n",
      " [ 743   90]\n",
      " [ 896   27]]\n",
      "------------------------\n",
      "Expected: \n",
      "\n",
      "[[1601  579]\n",
      " [ 611  221]\n",
      " [ 677  245]]\n",
      "------------------------\n",
      "\n",
      "chi2 = 657.71\n",
      "p value: 0.0000\n",
      "degrees of freedom: 2\n",
      "We reject the null hypothesis\n"
     ]
    }
   ],
   "source": [
    "project.top_3_churn()"
   ]
  },
  {
   "cell_type": "markdown",
   "metadata": {},
   "source": [
    "### Question 3\n",
    "#### What are the top 3 features with the lowest churn rate?\n"
   ]
  },
  {
   "cell_type": "markdown",
   "metadata": {},
   "source": [
    "### Answer 3\n",
    "1. Tenure\n",
    "2. 2 year Contract\n",
    "3. No internet Service(7)"
   ]
  },
  {
   "cell_type": "code",
   "execution_count": 10,
   "metadata": {},
   "outputs": [
    {
     "data": {
      "image/png": "[encoded data removed]",
      "text/plain": [
       "<Figure size 432x288 with 1 Axes>"
      ]
     },
     "metadata": {
      "needs_background": "light"
     },
     "output_type": "display_data"
    },
    {
     "data": {
      "image/png": "[encoded data removed]",
      "text/plain": [
       "<Figure size 432x288 with 1 Axes>"
      ]
     },
     "metadata": {
      "needs_background": "light"
     },
     "output_type": "display_data"
    },
    {
     "data": {
      "image/png": "[encoded data removed]",
      "text/plain": [
       "<Figure size 432x288 with 1 Axes>"
      ]
     },
     "metadata": {
      "needs_background": "light"
     },
     "output_type": "display_data"
    },
    {
     "data": {
      "image/png": "[encoded data removed]",
      "text/plain": [
       "<Figure size 432x288 with 1 Axes>"
      ]
     },
     "metadata": {
      "needs_background": "light"
     },
     "output_type": "display_data"
    },
    {
     "data": {
      "image/png": "[encoded data removed]",
      "text/plain": [
       "<Figure size 432x288 with 1 Axes>"
      ]
     },
     "metadata": {
      "needs_background": "light"
     },
     "output_type": "display_data"
    },
    {
     "data": {
      "image/png": "[encoded data removed]",
      "text/plain": [
       "<Figure size 432x288 with 1 Axes>"
      ]
     },
     "metadata": {
      "needs_background": "light"
     },
     "output_type": "display_data"
    }
   ],
   "source": [
    "project.q_3_viz()"
   ]
  },
  {
   "cell_type": "markdown",
   "metadata": {},
   "source": [
    "### Question 4\n",
    "#### What demographic has the highest churn rate?"
   ]
  },
  {
   "cell_type": "markdown",
   "metadata": {},
   "source": [
    "### Answer 4\n",
    "\n",
    "Senior Citizens are the highest churn, the majority uses electronic checks. "
   ]
  },
  {
   "cell_type": "code",
   "execution_count": 11,
   "metadata": {},
   "outputs": [
    {
     "name": "stdout",
     "output_type": "stream",
     "text": [
      "Senior Citizen vs Churn\n",
      "HO: There is no relation between month-to-month senior citizen and churn rate\n",
      "H⍺: There is a relation between month-to-month senior citizen and churn rate\n",
      "---------------------------------------------\n",
      "\n",
      "churn_encoded      0    1\n",
      "senior_citizen           \n",
      "0               2520  784\n",
      "1                371  262\n",
      "Observed\n",
      ":\n",
      "[[2520  784]\n",
      " [ 371  262]]\n",
      "------------------------\n",
      "Expected: \n",
      "\n",
      "[[2426  877]\n",
      " [ 464  168]]\n",
      "------------------------\n",
      "\n",
      "chi2 = 84.03\n",
      "p value: 0.0000\n",
      "degrees of freedom: 1\n",
      "We reject the null hypothesis\n"
     ]
    }
   ],
   "source": [
    "project.q_4_churn()"
   ]
  },
  {
   "cell_type": "markdown",
   "metadata": {},
   "source": [
    "## Summary"
   ]
  },
  {
   "cell_type": "markdown",
   "metadata": {},
   "source": [
    "### Prediction"
   ]
  },
  {
   "cell_type": "markdown",
   "metadata": {},
   "source": [
    "### Baseline"
   ]
  },
  {
   "cell_type": "code",
   "execution_count": 12,
   "metadata": {},
   "outputs": [
    {
     "name": "stdout",
     "output_type": "stream",
     "text": [
      "Baseline accuracy: 73.4315%\n"
     ]
    }
   ],
   "source": [
    "# Baseline\n",
    "model.baseline_churn()"
   ]
  },
  {
   "cell_type": "markdown",
   "metadata": {},
   "source": [
    "### Fit 3 Models"
   ]
  },
  {
   "cell_type": "code",
   "execution_count": 13,
   "metadata": {},
   "outputs": [
    {
     "name": "stdout",
     "output_type": "stream",
     "text": [
      "Max depth 6 performs the best\n",
      "    max_depth  train_accuracy  validate_accuracy  difference\n",
      "0           1        0.734315           0.734005    0.000311\n",
      "1           2        0.754128           0.783768   -0.029640\n",
      "2           3        0.788672           0.799763   -0.011091\n",
      "3           4        0.797308           0.793246    0.004061\n",
      "4           5        0.801118           0.787322    0.013795\n",
      "5           6        0.811786           0.798578    0.013207\n",
      "6           7        0.824486           0.792062    0.032424\n",
      "7           8        0.843282           0.774289    0.068993\n",
      "8           9        0.869444           0.763033    0.106411\n",
      "9          10        0.892304           0.768957    0.123346\n",
      "10         11        0.913132           0.757701    0.155430\n",
      "11         12        0.933452           0.739336    0.194115\n",
      "12         13        0.951740           0.752370    0.199370\n",
      "13         14        0.967234           0.746445    0.220788\n",
      "14         15        0.974854           0.744668    0.230186\n"
     ]
    }
   ],
   "source": [
    "# Decision Tree\n",
    "model.dec_tree_class()"
   ]
  },
  {
   "cell_type": "code",
   "execution_count": 14,
   "metadata": {},
   "outputs": [
    {
     "name": "stdout",
     "output_type": "stream",
     "text": [
      "Max depth 5, Min leaf 5 performs the best\n",
      "   min_per_leaf  max_depth  train_accuracy  validate_accuracy  difference\n",
      "0             1          9        0.859284           0.805687    0.053597\n",
      "1             2          8        0.835408           0.807464    0.027943\n",
      "2             3          7        0.822708           0.803910    0.018798\n",
      "3             4          6        0.815342           0.798578    0.016763\n",
      "4             5          5        0.803912           0.803910    0.000002\n",
      "5             6          4        0.797308           0.801540   -0.004233\n",
      "6             7          3        0.790196           0.793839   -0.003643\n",
      "7             8          2        0.757430           0.768957   -0.011528\n",
      "8             9          1        0.734315           0.734005    0.000311\n"
     ]
    }
   ],
   "source": [
    "# Random Forest\n",
    "model.ran_tree_class()"
   ]
  },
  {
   "cell_type": "code",
   "execution_count": 15,
   "metadata": {},
   "outputs": [
    {
     "name": "stdout",
     "output_type": "stream",
     "text": [
      "KNC with 20 neighbors performs the best\n",
      "Accuracy using Model Score: 79.50%\n",
      "Using Confusion Matrix:\n",
      "      0    1\n",
      "0  2740  151\n",
      "1   656  390\n",
      "Class report:\n",
      "              precision    recall  f1-score   support\n",
      "\n",
      "           0       0.81      0.95      0.87      2891\n",
      "           1       0.72      0.37      0.49      1046\n",
      "\n",
      "    accuracy                           0.80      3937\n",
      "   macro avg       0.76      0.66      0.68      3937\n",
      "weighted avg       0.78      0.80      0.77      3937\n",
      "\n",
      "True Positive(tp): 390 \n",
      "False Positive(fp): 151 \n",
      "False Negative(fn): 656 \n",
      "True Negative(tn): 2740\n",
      "Accuracy: 0.795\n",
      "True Positive Rate: 0.3728\n",
      "False Positive Rate: 0.05223\n",
      "True Negative Rate: 0.9478\n",
      "False Negative Rate: 0.6272\n",
      "Precision: 0.7209\n",
      "Recall: 0.3728\n",
      "F1 Score: 0.4915\n",
      "Support (0): 1046\n",
      "Support (1): 2891\n"
     ]
    }
   ],
   "source": [
    "# K Nearest Neighbors\n",
    "model.knn_model()"
   ]
  },
  {
   "cell_type": "markdown",
   "metadata": {},
   "source": [
    "## Conclusion"
   ]
  },
  {
   "cell_type": "markdown",
   "metadata": {},
   "source": [
    "### Summary\n",
    "\n",
    "We now know our churn rate is 27%. We were able to identify the main drivers of churn. As we can see the main issues are the short term contracts, non automatic payments, customers without internet security and tech support. We also went over three different models of machine learning and their performance.\n"
   ]
  },
  {
   "cell_type": "markdown",
   "metadata": {},
   "source": [
    "### Recomendations\n",
    "- Incentivize customer to get on long term contract\n",
    "- Set customers with automatic payments\n",
    "- Provide features such as:\n",
    "    - Internet Security\n",
    "    - Technical Support"
   ]
  },
  {
   "cell_type": "markdown",
   "metadata": {},
   "source": [
    "### Next Steps\n",
    "- Measure customer satisfaction with surveys\n",
    "- Look at what is causing the fiber internet customer to churn\n",
    "- Look at the performance of ML in more data"
   ]
  }
 ],
 "metadata": {
  "interpreter": {
   "hash": "38cca0c38332a56087b24af0bc80247f4fced29cb4f7f437d91dc159adec9c4e"
  },
  "kernelspec": {
   "display_name": "Python 3.9.7 ('base')",
   "language": "python",
   "name": "python3"
  },
  "language_info": {
   "codemirror_mode": {
    "name": "ipython",
    "version": 3
   },
   "file_extension": ".py",
   "mimetype": "text/x-python",
   "name": "python",
   "nbconvert_exporter": "python",
   "pygments_lexer": "ipython3",
   "version": "3.9.7"
  },
  "orig_nbformat": 4
 },
 "nbformat": 4,
 "nbformat_minor": 2
}
